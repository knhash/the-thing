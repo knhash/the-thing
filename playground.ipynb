{
 "cells": [
  {
   "cell_type": "code",
   "execution_count": 1,
   "metadata": {},
   "outputs": [],
   "source": [
    "# from IPython.core.interactiveshell import InteractiveShell\n",
    "# InteractiveShell.ast_node_interactivity = \"all\""
   ]
  },
  {
   "cell_type": "code",
   "execution_count": 5,
   "metadata": {},
   "outputs": [],
   "source": [
    "# %pip install streamlit\n",
    "# %pip install face_recognition"
   ]
  },
  {
   "cell_type": "code",
   "execution_count": 8,
   "metadata": {},
   "outputs": [],
   "source": [
    "import face_recognition\n",
    "import streamlit as st\n",
    "import numpy as np\n",
    "from PIL import Image\n",
    "import pickle \n",
    "from os.path import exists"
   ]
  },
  {
   "cell_type": "code",
   "execution_count": null,
   "metadata": {},
   "outputs": [],
   "source": [
    "adhd_symptoms = [\"miss details and are distracted easily\",\n",
    "\"get bored quickly\",\n",
    "\"have trouble focusing on a single task\",\n",
    "\"have difficulty organizing thoughts and learning new information\",\n",
    "\"lose pencils, papers, or other items needed to complete a task\",\n",
    "\"don’t seem to listen\",\n",
    "\"move slowly and appear as if they’re daydreaming\",\n",
    "\"process information more slowly and less accurately than others\",\n",
    "\"have trouble following directions\",\n",
    "\"squirm, fidget, or feel restless\",\n",
    "\"have difficulty sitting still\",\n",
    "\"talk constantly\",\n",
    "\"touch and play with objects, even when inappropriate to the task at hand\",\n",
    "\"have trouble engaging in quiet activities\",\n",
    "\"are constantly “on the go”\",\n",
    "\"are impatient\",\n",
    "\"act out of turn and don’t think about consequences of actions\",\n",
    "\"blurt out answers and inappropriate comments\"]"
   ]
  },
  {
   "cell_type": "code",
   "execution_count": 34,
   "metadata": {},
   "outputs": [],
   "source": [
    "def rando_result():\n",
    "    \n",
    "    adhd_status = np.random.randint(0, 2)\n",
    "    adhd_symptom = \"\"\n",
    "    if adhd_status == 1:\n",
    "        adhd_symptom = np.random.choice(adhd_symptoms)\n",
    "        \n",
    "    return {\n",
    "        \"status\": adhd_status, \n",
    "        \"symptom\": adhd_symptom\n",
    "        }\n",
    "\n"
   ]
  },
  {
   "cell_type": "code",
   "execution_count": 6,
   "metadata": {},
   "outputs": [],
   "source": [
    "if exists('known_face_encodings.pkl'):      \n",
    "    with open('known_face_encodings.pkl', 'rb') as f:\n",
    "        known_face_encodings = pickle.load(f)\n",
    "else:\n",
    "    known_face_encodings = []\n",
    "\n",
    "if exists('known_face_results.pkl'):\n",
    "    with open('known_face_results.pkl', 'rb') as f:\n",
    "        known_face_results = pickle.load(f)\n",
    "else:\n",
    "    known_face_results = []"
   ]
  },
  {
   "cell_type": "code",
   "execution_count": null,
   "metadata": {},
   "outputs": [],
   "source": [
    "# with col_a:\n",
    "head = st.markdown(\"### Do you have :blue[the thing]?\")\n",
    "sub_head = st.markdown(\"#### Scan your face to find out...\")\n",
    "\n",
    "picture = st.camera_input(label=\"Scan your face\", label_visibility=\"collapsed\")\n",
    "\n",
    "# with col_b:\n",
    "if picture:\n",
    "    # st.image(picture)\n",
    "    img = Image.open(picture)\n",
    "    img_array = np.array(img)\n",
    "\n",
    "    list_of_face_encodings = face_recognition.face_encodings(img_array)\n",
    "    if len(list_of_face_encodings) > 0:\n",
    "        face_encoding = list_of_face_encodings[0]\n",
    "    \n",
    "        results = face_recognition.compare_faces(known_face_encodings, face_encoding)\n",
    "\n",
    "        if len(known_face_encodings) == 0:\n",
    "            known_face_encodings.append(face_encoding)\n",
    "            known_face_results.append(rando_result())\n",
    "            index_result = 0\n",
    "        elif sum(results) == 0:\n",
    "            # new face!\n",
    "            known_face_encodings.append(face_encoding)\n",
    "            known_face_results.append(rando_result())\n",
    "            index_result = len(known_face_results)\n",
    "        else:\n",
    "            # existing face\n",
    "            index_result = np.where(results)[0][0]\n",
    "\n",
    "        print(known_face_results)\n",
    "        if known_face_results[index_result]['status'] == 1:\n",
    "            sub_head.markdown(\"#### :green[Yes.] You \"+ known_face_results[index_result]['symptom'])\n",
    "        else:\n",
    "            sub_head.markdown(\"#### :red[No.] \")\n",
    "\n",
    "    with open('known_face_encodings.pkl', 'wb') as f:\n",
    "        pickle.dump(known_face_encodings, f)\n",
    "    with open('known_face_results.pkl', 'wb') as f:\n",
    "        pickle.dump(known_face_results, f)\n",
    "    \n",
    "\n",
    "\n"
   ]
  },
  {
   "cell_type": "code",
   "execution_count": null,
   "metadata": {},
   "outputs": [],
   "source": []
  },
  {
   "cell_type": "code",
   "execution_count": null,
   "metadata": {},
   "outputs": [],
   "source": []
  },
  {
   "cell_type": "code",
   "execution_count": null,
   "metadata": {},
   "outputs": [],
   "source": []
  }
 ],
 "metadata": {
  "kernelspec": {
   "display_name": "wazir",
   "language": "python",
   "name": "python3"
  },
  "language_info": {
   "codemirror_mode": {
    "name": "ipython",
    "version": 3
   },
   "file_extension": ".py",
   "mimetype": "text/x-python",
   "name": "python",
   "nbconvert_exporter": "python",
   "pygments_lexer": "ipython3",
   "version": "3.8.6"
  },
  "orig_nbformat": 4
 },
 "nbformat": 4,
 "nbformat_minor": 2
}
